{
 "cells": [
  {
   "cell_type": "markdown",
   "id": "a66c4683",
   "metadata": {},
   "source": [
    "## Main Entrypoint"
   ]
  },
  {
   "cell_type": "code",
   "execution_count": 1,
   "id": "0a24055b",
   "metadata": {},
   "outputs": [],
   "source": [
    "from parameters.parameters import (\n",
    "    energy_file_path, insurance_file_path, autogluon_params\n",
    ")\n",
    "from data_ingestion.ingest import get_data\n",
    "from model_building.build_model import autogluon_model_build\n",
    "import time"
   ]
  },
  {
   "cell_type": "markdown",
   "id": "46389544",
   "metadata": {},
   "source": [
    "## Data Ingestion"
   ]
  },
  {
   "cell_type": "code",
   "execution_count": 2,
   "id": "09d752e6",
   "metadata": {},
   "outputs": [
    {
     "name": "stdout",
     "output_type": "stream",
     "text": [
      "Starting Data Ingestion\n",
      "Starting Energy Data...\n",
      "Execution for Appliance Energy Data Ingestion is 0.14193987846374512 seconds\n",
      "Size of Applicance Energy Data is (1000, 29)\n",
      "                  date  Appliances  lights     T1       RH_1    T2       RH_2  \\\n",
      "0  2016-01-11 17:00:00          60      30  19.89  47.596667  19.2  44.790000   \n",
      "1  2016-01-11 17:10:00          60      30  19.89  46.693333  19.2  44.722500   \n",
      "2  2016-01-11 17:20:00          50      30  19.89  46.300000  19.2  44.626667   \n",
      "3  2016-01-11 17:30:00          50      40  19.89  46.066667  19.2  44.590000   \n",
      "4  2016-01-11 17:40:00          60      40  19.89  46.333333  19.2  44.530000   \n",
      "\n",
      "      T3       RH_3         T4  ...         T9   RH_9     T_out  Press_mm_hg  \\\n",
      "0  19.79  44.730000  19.000000  ...  17.033333  45.53  6.600000        733.5   \n",
      "1  19.79  44.790000  19.000000  ...  17.066667  45.56  6.483333        733.6   \n",
      "2  19.79  44.933333  18.926667  ...  17.000000  45.50  6.366667        733.7   \n",
      "3  19.79  45.000000  18.890000  ...  17.000000  45.40  6.250000        733.8   \n",
      "4  19.79  45.000000  18.890000  ...  17.000000  45.40  6.133333        733.9   \n",
      "\n",
      "   RH_out  Windspeed  Visibility  Tdewpoint        rv1        rv2  \n",
      "0    92.0   7.000000   63.000000        5.3  13.275433  13.275433  \n",
      "1    92.0   6.666667   59.166667        5.2  18.606195  18.606195  \n",
      "2    92.0   6.333333   55.333333        5.1  28.642668  28.642668  \n",
      "3    92.0   6.000000   51.500000        5.0  45.410389  45.410389  \n",
      "4    92.0   5.666667   47.666667        4.9  10.084097  10.084097  \n",
      "\n",
      "[5 rows x 29 columns]\n"
     ]
    }
   ],
   "source": [
    "print(\"Starting Data Ingestion\")\n",
    "print(\"Starting Energy Data...\")\n",
    "start_time = time.time()\n",
    "appliance_energy_data = get_data(energy_file_path)\n",
    "end_time = time.time()\n",
    "print(f\"Execution for Appliance Energy Data Ingestion is {end_time - start_time} seconds\")\n",
    "print(f\"Size of Applicance Energy Data is {appliance_energy_data.shape}\")\n",
    "print(appliance_energy_data.head())"
   ]
  },
  {
   "cell_type": "code",
   "execution_count": null,
   "id": "73bcaf83",
   "metadata": {},
   "outputs": [
    {
     "name": "stderr",
     "output_type": "stream",
     "text": [
      "Warning: path already exists! This predictor may overwrite an existing predictor! path=\"artefacts/models_regression\"\n",
      "Beginning AutoGluon training ... Time limit = 60s\n",
      "AutoGluon will save models to \"artefacts/models_regression/\"\n",
      "AutoGluon Version:  0.7.0\n",
      "Python Version:     3.9.16\n",
      "Operating System:   Darwin\n",
      "Platform Machine:   x86_64\n",
      "Platform Version:   Darwin Kernel Version 22.3.0: Mon Jan 30 20:42:11 PST 2023; root:xnu-8792.81.3~2/RELEASE_X86_64\n",
      "Train Data Rows:    670\n",
      "Train Data Columns: 28\n",
      "Label Column: Appliances\n",
      "Preprocessing data ...\n",
      "Using Feature Generators to preprocess the data ...\n",
      "Fitting AutoMLPipelineFeatureGenerator...\n",
      "\tAvailable Memory:                    5536.32 MB\n",
      "\tTrain Data (Original)  Memory Usage: 0.2 MB (0.0% of available memory)\n",
      "\tInferring data type of each feature based on column values. Set feature_metadata_in to manually specify special dtypes of the features.\n",
      "\tStage 1 Generators:\n",
      "\t\tFitting AsTypeFeatureGenerator...\n",
      "\tStage 2 Generators:\n",
      "\t\tFitting FillNaFeatureGenerator...\n",
      "\tStage 3 Generators:\n",
      "\t\tFitting IdentityFeatureGenerator...\n",
      "\t\tFitting DatetimeFeatureGenerator...\n",
      "\tStage 4 Generators:\n",
      "\t\tFitting DropUniqueFeatureGenerator...\n",
      "\tTypes of features in original data (raw dtype, special dtypes):\n",
      "\t\t('float', [])                      : 26 | ['T1', 'RH_1', 'T2', 'RH_2', 'T3', ...]\n",
      "\t\t('int', [])                        :  1 | ['lights']\n",
      "\t\t('object', ['datetime_as_object']) :  1 | ['date']\n",
      "\tTypes of features in processed data (raw dtype, special dtypes):\n",
      "\t\t('float', [])                : 26 | ['T1', 'RH_1', 'T2', 'RH_2', 'T3', ...]\n",
      "\t\t('int', [])                  :  1 | ['lights']\n",
      "\t\t('int', ['datetime_as_int']) :  3 | ['date', 'date.day', 'date.dayofweek']\n",
      "\t0.1s = Fit runtime\n",
      "\t28 features in original data used to generate 30 features in processed data.\n",
      "\tTrain Data (Processed) Memory Usage: 0.16 MB (0.0% of available memory)\n",
      "Data preprocessing and feature engineering runtime = 0.15s ...\n",
      "AutoGluon will gauge predictive performance using evaluation metric: 'root_mean_squared_error'\n",
      "\tThis metric's sign has been flipped to adhere to being higher_is_better. The metric score can be multiplied by -1 to get the metric value.\n",
      "\tTo change this, specify the eval_metric parameter of Predictor()\n",
      "Automatically generating train/validation split with holdout_frac=0.2, Train Rows: 536, Val Rows: 134\n"
     ]
    },
    {
     "name": "stdout",
     "output_type": "stream",
     "text": [
      "Starting Model Builidng...\n"
     ]
    },
    {
     "name": "stderr",
     "output_type": "stream",
     "text": [
      "Fitting 11 L1 models ...\n",
      "Fitting model: KNeighborsUnif ... Training model for up to 59.85s of the 59.85s of remaining time.\n",
      "\t-89.0106\t = Validation score   (-root_mean_squared_error)\n",
      "\t1.73s\t = Training   runtime\n",
      "\t0.08s\t = Validation runtime\n",
      "Fitting model: KNeighborsDist ... Training model for up to 58.04s of the 58.03s of remaining time.\n",
      "\t-82.4897\t = Validation score   (-root_mean_squared_error)\n",
      "\t0.01s\t = Training   runtime\n",
      "\t0.01s\t = Validation runtime\n",
      "Fitting model: LightGBMXT ... Training model for up to 58.01s of the 58.0s of remaining time.\n"
     ]
    },
    {
     "name": "stdout",
     "output_type": "stream",
     "text": [
      "[1000]\tvalid_set's rmse: 82.5608\n"
     ]
    },
    {
     "name": "stderr",
     "output_type": "stream",
     "text": [
      "\t-82.3714\t = Validation score   (-root_mean_squared_error)\n",
      "\t0.86s\t = Training   runtime\n",
      "\t0.0s\t = Validation runtime\n",
      "Fitting model: LightGBM ... Training model for up to 57.09s of the 57.09s of remaining time.\n",
      "\t-84.8335\t = Validation score   (-root_mean_squared_error)\n",
      "\t0.44s\t = Training   runtime\n",
      "\t0.0s\t = Validation runtime\n",
      "Fitting model: RandomForestMSE ... Training model for up to 56.64s of the 56.64s of remaining time.\n"
     ]
    }
   ],
   "source": [
    "print(\"Starting Model Builidng...\")\n",
    "start_time = time.time()\n",
    "train_data, test_data, predictor = (\n",
    "    autogluon_model_build(appliance_energy_data, autogluon_params)\n",
    ")\n",
    "end_time = time.time()\n",
    "print(f\"Execution time for Model Building is {end_time - start_time} seconds\")\n",
    "print(f\"Size of Train Data is {train_data.shape}\")\n",
    "print(f\"Size of Test Data is {test_data.shape}\")"
   ]
  },
  {
   "cell_type": "code",
   "execution_count": null,
   "id": "0d61ed19",
   "metadata": {},
   "outputs": [],
   "source": []
  },
  {
   "cell_type": "code",
   "execution_count": null,
   "id": "3b7d8c9c",
   "metadata": {},
   "outputs": [],
   "source": []
  }
 ],
 "metadata": {
  "kernelspec": {
   "display_name": "Python 3 (ipykernel)",
   "language": "python",
   "name": "python3"
  },
  "language_info": {
   "codemirror_mode": {
    "name": "ipython",
    "version": 3
   },
   "file_extension": ".py",
   "mimetype": "text/x-python",
   "name": "python",
   "nbconvert_exporter": "python",
   "pygments_lexer": "ipython3",
   "version": "3.9.16"
  }
 },
 "nbformat": 4,
 "nbformat_minor": 5
}
